{
 "cells": [
  {
   "cell_type": "markdown",
   "id": "1e602be0065dfcac",
   "metadata": {},
   "source": [
    "# Time Series Analysis and Decomposition of Stock Prices with Python"
   ]
  },
  {
   "cell_type": "markdown",
   "id": "330d99f394cd077a",
   "metadata": {},
   "source": [
    "## Importing the libraries"
   ]
  },
  {
   "cell_type": "code",
   "execution_count": 3,
   "id": "8936deadc5f86eb2",
   "metadata": {
    "tags": [],
    "ExecuteTime": {
     "end_time": "2024-01-08T16:44:04.709939Z",
     "start_time": "2024-01-08T16:44:04.702156Z"
    }
   },
   "outputs": [],
   "source": [
    "import pandas as pd\n",
    "import yfinance as yf\n",
    "import matplotlib.pyplot as plt\n",
    "from statsmodels.tsa.seasonal import seasonal_decompose\n",
    "\n"
   ]
  },
  {
   "cell_type": "markdown",
   "source": [],
   "metadata": {
    "collapsed": false
   },
   "id": "8c6e5bed9a77f8ec"
  }
 ],
 "metadata": {
  "kernelspec": {
   "name": "timeseries",
   "language": "python",
   "display_name": "Python(timeseries)"
  },
  "language_info": {
   "codemirror_mode": {
    "name": "ipython",
    "version": 3
   },
   "file_extension": ".py",
   "mimetype": "text/x-python",
   "name": "python",
   "nbconvert_exporter": "python",
   "pygments_lexer": "ipython3",
   "version": "3.11.7"
  }
 },
 "nbformat": 4,
 "nbformat_minor": 5
}
